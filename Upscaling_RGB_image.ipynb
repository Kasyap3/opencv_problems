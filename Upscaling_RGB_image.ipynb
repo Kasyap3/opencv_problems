{
  "nbformat": 4,
  "nbformat_minor": 0,
  "metadata": {
    "colab": {
      "name": "Upscaling RGB image.ipynb",
      "provenance": [],
      "authorship_tag": "ABX9TyNk3cH8LIY30Nec3j5jwDY/",
      "include_colab_link": true
    },
    "kernelspec": {
      "name": "python3",
      "display_name": "Python 3"
    },
    "language_info": {
      "name": "python"
    }
  },
  "cells": [
    {
      "cell_type": "markdown",
      "metadata": {
        "id": "view-in-github",
        "colab_type": "text"
      },
      "source": [
        "<a href=\"https://colab.research.google.com/github/Kasyap3/opencv_problems/blob/main/Upscaling_RGB_image.ipynb\" target=\"_parent\"><img src=\"https://colab.research.google.com/assets/colab-badge.svg\" alt=\"Open In Colab\"/></a>"
      ]
    },
    {
      "cell_type": "code",
      "execution_count": null,
      "metadata": {
        "id": "HPE2RO-YIqwR"
      },
      "outputs": [],
      "source": [
        "import cv2\n",
        "#this library is required for this project"
      ]
    },
    {
      "cell_type": "code",
      "source": [
        "import numpy as np\n",
        "#import numpy "
      ],
      "metadata": {
        "id": "6t8KAWynI3T9"
      },
      "execution_count": null,
      "outputs": []
    },
    {
      "cell_type": "code",
      "source": [
        "#define a function for upscaling the image\n",
        "def upscaling(img,x,y,row,col):\n",
        "  #image pixels will have the values between 0-255\n",
        "  #create a zero matrix of previous image\n",
        "  upscaling_img=np.zeros((x*row,y*col),np.uint8)\n",
        "  i,m=0,0\n",
        "  while m<row:\n",
        "    j,n=0,0\n",
        "    while n<col:\n",
        "      #assign the values to the alternate rows,cols\n",
        "      upscaling_img[i,j]=img[m,n]\n",
        "      j+=y #increment j\n",
        "      n+=1 #increment n\n",
        "    m+=1 #increment m\n",
        "    i+=x #increment i\n",
        "  return upscaling_img"
      ],
      "metadata": {
        "id": "qBRXyH1uI614"
      },
      "execution_count": null,
      "outputs": []
    },
    {
      "cell_type": "code",
      "source": [
        "#driver code\n",
        "if__name___=\"__main__\":\n",
        "  #read the input image using imread() function of cv2\n",
        "  img=cv2.imread(\"/content/test_d1.jpg\")#pass the path of the image\n",
        "  #display the output using imshow() function of cv2\n",
        "  cv2.imshow('original image',img)\n",
        "  #assign all the dimensions to the image\n",
        "  row,col,plane=img.shape\n",
        "  #give a blue plane \n",
        "  blue_plane=img[:,:,0]\n",
        "  #give a green plane\n",
        "  green_plane=img[:,:,1]\n",
        "  #give a red plane\n",
        "  red_plane=img[;,;,2]\n",
        "  x,y=2,2\n",
        "  upscale_img=np.zeros((x*row,y*col,plane),np.uint8)\n",
        "  upscale_img[:,:,0] = upscaling(blue_plane, x,y,row,col)\n",
        "  upscale_img[:,:,1] = upscaling(green_plane, x,y,row,col)\n",
        "  upscale_img[:,:,2] = upscaling(red_plane, x,y,row,col)\n",
        "\n",
        "  cv2.imshow('Upscale image',upscale_img)\n",
        "\n"
      ],
      "metadata": {
        "colab": {
          "base_uri": "https://localhost:8080/",
          "height": 130
        },
        "id": "hdOFr2qyK33t",
        "outputId": "3e38c171-2ebf-48f1-ea29-210910e91618"
      },
      "execution_count": null,
      "outputs": [
        {
          "output_type": "error",
          "ename": "SyntaxError",
          "evalue": "ignored",
          "traceback": [
            "\u001b[0;36m  File \u001b[0;32m\"<ipython-input-5-57e911e95f1e>\"\u001b[0;36m, line \u001b[0;32m2\u001b[0m\n\u001b[0;31m    if__name___=\"__main__\":\u001b[0m\n\u001b[0m                          ^\u001b[0m\n\u001b[0;31mSyntaxError\u001b[0m\u001b[0;31m:\u001b[0m invalid syntax\n"
          ]
        }
      ]
    },
    {
      "cell_type": "code",
      "source": [
        ""
      ],
      "metadata": {
        "id": "d0-cCvshPaXD"
      },
      "execution_count": null,
      "outputs": []
    }
  ]
}